{
 "cells": [
  {
   "cell_type": "markdown",
   "metadata": {},
   "source": [
    "# Notebook di Preparazione\n",
    "Ho a disposizione un dataset \"appointment_data.csv\". Creo e scrivo su disco due file csv:\"train.csv\" e \"test.csv\". Tali file verranno usati per l'addestramento del classificatore del secondo notebook.\n",
    "Utilizzo per lo split in dati di train e dati di test il modulo train_test_split della libreria sklearn.\n"
   ]
  },
  {
   "cell_type": "code",
   "execution_count": 1,
   "metadata": {},
   "outputs": [],
   "source": [
    "import pandas as pd #libreria usata per importare i dati e salvarli su disco\n",
    "from sklearn.model_selection import train_test_split #per dividere il dataset in dati di train e di test "
   ]
  },
  {
   "cell_type": "code",
   "execution_count": 2,
   "metadata": {},
   "outputs": [],
   "source": [
    "dataset = pd.read_csv('appointment_data.csv') #importo i dati"
   ]
  },
  {
   "cell_type": "code",
   "execution_count": 3,
   "metadata": {},
   "outputs": [
    {
     "data": {
      "text/plain": [
       "(88421, 14)"
      ]
     },
     "execution_count": 3,
     "metadata": {},
     "output_type": "execute_result"
    }
   ],
   "source": [
    "dataset.shape #vedo quante righe e quante colonne contiene il dataset"
   ]
  },
  {
   "cell_type": "code",
   "execution_count": 4,
   "metadata": {},
   "outputs": [
    {
     "data": {
      "text/plain": [
       "Index(['No-show', 'PatientId', 'AppointmentID', 'Gender', 'ScheduledDay',\n",
       "       'AppointmentDay', 'Age', 'Neighbourhood', 'Scholarship', 'Hipertension',\n",
       "       'Diabetes', 'Alcoholism', 'Handcap', 'SMS_received'],\n",
       "      dtype='object')"
      ]
     },
     "execution_count": 4,
     "metadata": {},
     "output_type": "execute_result"
    }
   ],
   "source": [
    "dataset.columns #mostro le colonne del dataset"
   ]
  },
  {
   "cell_type": "code",
   "execution_count": 5,
   "metadata": {},
   "outputs": [
    {
     "data": {
      "text/html": [
       "<div>\n",
       "<style scoped>\n",
       "    .dataframe tbody tr th:only-of-type {\n",
       "        vertical-align: middle;\n",
       "    }\n",
       "\n",
       "    .dataframe tbody tr th {\n",
       "        vertical-align: top;\n",
       "    }\n",
       "\n",
       "    .dataframe thead th {\n",
       "        text-align: right;\n",
       "    }\n",
       "</style>\n",
       "<table border=\"1\" class=\"dataframe\">\n",
       "  <thead>\n",
       "    <tr style=\"text-align: right;\">\n",
       "      <th></th>\n",
       "      <th>No-show</th>\n",
       "      <th>PatientId</th>\n",
       "      <th>AppointmentID</th>\n",
       "      <th>Gender</th>\n",
       "      <th>ScheduledDay</th>\n",
       "      <th>AppointmentDay</th>\n",
       "      <th>Age</th>\n",
       "      <th>Neighbourhood</th>\n",
       "      <th>Scholarship</th>\n",
       "      <th>Hipertension</th>\n",
       "      <th>Diabetes</th>\n",
       "      <th>Alcoholism</th>\n",
       "      <th>Handcap</th>\n",
       "      <th>SMS_received</th>\n",
       "    </tr>\n",
       "  </thead>\n",
       "  <tbody>\n",
       "    <tr>\n",
       "      <th>0</th>\n",
       "      <td>No</td>\n",
       "      <td>1.328492e+12</td>\n",
       "      <td>5687610</td>\n",
       "      <td>F</td>\n",
       "      <td>2016-05-11T16:00:16Z</td>\n",
       "      <td>2016-05-19T00:00:00Z</td>\n",
       "      <td>25</td>\n",
       "      <td>MATA DA PRAIA</td>\n",
       "      <td>0</td>\n",
       "      <td>0</td>\n",
       "      <td>0</td>\n",
       "      <td>0</td>\n",
       "      <td>0</td>\n",
       "      <td>0</td>\n",
       "    </tr>\n",
       "    <tr>\n",
       "      <th>1</th>\n",
       "      <td>No</td>\n",
       "      <td>3.881869e+14</td>\n",
       "      <td>5694484</td>\n",
       "      <td>M</td>\n",
       "      <td>2016-05-13T08:41:27Z</td>\n",
       "      <td>2016-05-17T00:00:00Z</td>\n",
       "      <td>62</td>\n",
       "      <td>FRADINHOS</td>\n",
       "      <td>0</td>\n",
       "      <td>0</td>\n",
       "      <td>0</td>\n",
       "      <td>0</td>\n",
       "      <td>0</td>\n",
       "      <td>0</td>\n",
       "    </tr>\n",
       "    <tr>\n",
       "      <th>2</th>\n",
       "      <td>Yes</td>\n",
       "      <td>9.118992e+12</td>\n",
       "      <td>5500939</td>\n",
       "      <td>F</td>\n",
       "      <td>2016-03-22T11:09:38Z</td>\n",
       "      <td>2016-05-09T00:00:00Z</td>\n",
       "      <td>65</td>\n",
       "      <td>JARDIM CAMBURI</td>\n",
       "      <td>0</td>\n",
       "      <td>0</td>\n",
       "      <td>0</td>\n",
       "      <td>0</td>\n",
       "      <td>0</td>\n",
       "      <td>0</td>\n",
       "    </tr>\n",
       "    <tr>\n",
       "      <th>3</th>\n",
       "      <td>No</td>\n",
       "      <td>1.843618e+14</td>\n",
       "      <td>5639080</td>\n",
       "      <td>M</td>\n",
       "      <td>2016-04-29T08:42:15Z</td>\n",
       "      <td>2016-04-29T00:00:00Z</td>\n",
       "      <td>41</td>\n",
       "      <td>MARIA ORTIZ</td>\n",
       "      <td>0</td>\n",
       "      <td>0</td>\n",
       "      <td>0</td>\n",
       "      <td>0</td>\n",
       "      <td>0</td>\n",
       "      <td>0</td>\n",
       "    </tr>\n",
       "    <tr>\n",
       "      <th>4</th>\n",
       "      <td>No</td>\n",
       "      <td>5.783198e+13</td>\n",
       "      <td>5671566</td>\n",
       "      <td>M</td>\n",
       "      <td>2016-05-06T18:47:52Z</td>\n",
       "      <td>2016-05-09T00:00:00Z</td>\n",
       "      <td>61</td>\n",
       "      <td>MARUÍPE</td>\n",
       "      <td>0</td>\n",
       "      <td>1</td>\n",
       "      <td>0</td>\n",
       "      <td>1</td>\n",
       "      <td>0</td>\n",
       "      <td>0</td>\n",
       "    </tr>\n",
       "  </tbody>\n",
       "</table>\n",
       "</div>"
      ],
      "text/plain": [
       "  No-show     PatientId  AppointmentID Gender          ScheduledDay  \\\n",
       "0      No  1.328492e+12        5687610      F  2016-05-11T16:00:16Z   \n",
       "1      No  3.881869e+14        5694484      M  2016-05-13T08:41:27Z   \n",
       "2     Yes  9.118992e+12        5500939      F  2016-03-22T11:09:38Z   \n",
       "3      No  1.843618e+14        5639080      M  2016-04-29T08:42:15Z   \n",
       "4      No  5.783198e+13        5671566      M  2016-05-06T18:47:52Z   \n",
       "\n",
       "         AppointmentDay  Age   Neighbourhood  Scholarship  Hipertension  \\\n",
       "0  2016-05-19T00:00:00Z   25   MATA DA PRAIA            0             0   \n",
       "1  2016-05-17T00:00:00Z   62       FRADINHOS            0             0   \n",
       "2  2016-05-09T00:00:00Z   65  JARDIM CAMBURI            0             0   \n",
       "3  2016-04-29T00:00:00Z   41     MARIA ORTIZ            0             0   \n",
       "4  2016-05-09T00:00:00Z   61         MARUÍPE            0             1   \n",
       "\n",
       "   Diabetes  Alcoholism  Handcap  SMS_received  \n",
       "0         0           0        0             0  \n",
       "1         0           0        0             0  \n",
       "2         0           0        0             0  \n",
       "3         0           0        0             0  \n",
       "4         0           1        0             0  "
      ]
     },
     "execution_count": 5,
     "metadata": {},
     "output_type": "execute_result"
    }
   ],
   "source": [
    "dataset.head() #visualizzo le prime 5 righe del dataset"
   ]
  },
  {
   "cell_type": "code",
   "execution_count": 6,
   "metadata": {},
   "outputs": [],
   "source": [
    "#definisco la X, tutte le caratteristiche del paziente e la variabile target y che è No-show\n",
    "y = dataset['No-show']\n",
    "X = dataset.drop(columns=['No-show'])"
   ]
  },
  {
   "cell_type": "code",
   "execution_count": 7,
   "metadata": {},
   "outputs": [],
   "source": [
    "X_train, X_test, y_train, y_test = train_test_split(X, y, train_size=0.8, test_size=0.2,random_state=0) #qui effettuo lo split in dati di train e dati di test "
   ]
  },
  {
   "cell_type": "markdown",
   "metadata": {},
   "source": [
    "Scelgo test_size=0.20 quindi il train set rappresenta l'80% dei dati e il test set il 20%"
   ]
  },
  {
   "cell_type": "code",
   "execution_count": 8,
   "metadata": {},
   "outputs": [],
   "source": [
    "train = pd.concat([X_train,y_train], axis=1) #definisco il dataset di train "
   ]
  },
  {
   "cell_type": "code",
   "execution_count": 9,
   "metadata": {},
   "outputs": [],
   "source": [
    "test = pd.concat([X_test,y_test], axis=1) #definisco il dataset di test"
   ]
  },
  {
   "cell_type": "code",
   "execution_count": 10,
   "metadata": {},
   "outputs": [],
   "source": [
    "#ora salvo questi dati su un file csv \n",
    "train.to_csv('train.csv',index=False)"
   ]
  },
  {
   "cell_type": "code",
   "execution_count": 11,
   "metadata": {},
   "outputs": [],
   "source": [
    "#ora salvo questi dati su un file csv \n",
    "test.to_csv('test.csv',index=False)"
   ]
  },
  {
   "cell_type": "code",
   "execution_count": 12,
   "metadata": {},
   "outputs": [
    {
     "data": {
      "text/html": [
       "<div>\n",
       "<style scoped>\n",
       "    .dataframe tbody tr th:only-of-type {\n",
       "        vertical-align: middle;\n",
       "    }\n",
       "\n",
       "    .dataframe tbody tr th {\n",
       "        vertical-align: top;\n",
       "    }\n",
       "\n",
       "    .dataframe thead th {\n",
       "        text-align: right;\n",
       "    }\n",
       "</style>\n",
       "<table border=\"1\" class=\"dataframe\">\n",
       "  <thead>\n",
       "    <tr style=\"text-align: right;\">\n",
       "      <th></th>\n",
       "      <th>PatientId</th>\n",
       "      <th>AppointmentID</th>\n",
       "      <th>Gender</th>\n",
       "      <th>ScheduledDay</th>\n",
       "      <th>AppointmentDay</th>\n",
       "      <th>Age</th>\n",
       "      <th>Neighbourhood</th>\n",
       "      <th>Scholarship</th>\n",
       "      <th>Hipertension</th>\n",
       "      <th>Diabetes</th>\n",
       "      <th>Alcoholism</th>\n",
       "      <th>Handcap</th>\n",
       "      <th>SMS_received</th>\n",
       "      <th>No-show</th>\n",
       "    </tr>\n",
       "  </thead>\n",
       "  <tbody>\n",
       "    <tr>\n",
       "      <th>57020</th>\n",
       "      <td>1.476612e+11</td>\n",
       "      <td>5679466</td>\n",
       "      <td>F</td>\n",
       "      <td>2016-05-10T09:57:55Z</td>\n",
       "      <td>2016-05-17T00:00:00Z</td>\n",
       "      <td>44</td>\n",
       "      <td>CARATOÍRA</td>\n",
       "      <td>0</td>\n",
       "      <td>0</td>\n",
       "      <td>0</td>\n",
       "      <td>0</td>\n",
       "      <td>0</td>\n",
       "      <td>0</td>\n",
       "      <td>Yes</td>\n",
       "    </tr>\n",
       "    <tr>\n",
       "      <th>67404</th>\n",
       "      <td>5.163147e+14</td>\n",
       "      <td>5571658</td>\n",
       "      <td>F</td>\n",
       "      <td>2016-04-12T09:24:13Z</td>\n",
       "      <td>2016-05-16T00:00:00Z</td>\n",
       "      <td>11</td>\n",
       "      <td>MARIA ORTIZ</td>\n",
       "      <td>0</td>\n",
       "      <td>0</td>\n",
       "      <td>0</td>\n",
       "      <td>0</td>\n",
       "      <td>0</td>\n",
       "      <td>0</td>\n",
       "      <td>Yes</td>\n",
       "    </tr>\n",
       "    <tr>\n",
       "      <th>42628</th>\n",
       "      <td>2.488843e+12</td>\n",
       "      <td>5690749</td>\n",
       "      <td>F</td>\n",
       "      <td>2016-05-12T10:35:23Z</td>\n",
       "      <td>2016-05-16T00:00:00Z</td>\n",
       "      <td>46</td>\n",
       "      <td>JARDIM CAMBURI</td>\n",
       "      <td>0</td>\n",
       "      <td>0</td>\n",
       "      <td>0</td>\n",
       "      <td>0</td>\n",
       "      <td>0</td>\n",
       "      <td>0</td>\n",
       "      <td>No</td>\n",
       "    </tr>\n",
       "    <tr>\n",
       "      <th>11918</th>\n",
       "      <td>9.618864e+14</td>\n",
       "      <td>5511964</td>\n",
       "      <td>F</td>\n",
       "      <td>2016-03-28T08:24:33Z</td>\n",
       "      <td>2016-05-06T00:00:00Z</td>\n",
       "      <td>75</td>\n",
       "      <td>JESUS DE NAZARETH</td>\n",
       "      <td>0</td>\n",
       "      <td>1</td>\n",
       "      <td>1</td>\n",
       "      <td>0</td>\n",
       "      <td>0</td>\n",
       "      <td>1</td>\n",
       "      <td>Yes</td>\n",
       "    </tr>\n",
       "    <tr>\n",
       "      <th>30082</th>\n",
       "      <td>4.836462e+11</td>\n",
       "      <td>5750314</td>\n",
       "      <td>F</td>\n",
       "      <td>2016-05-31T08:44:06Z</td>\n",
       "      <td>2016-06-01T00:00:00Z</td>\n",
       "      <td>83</td>\n",
       "      <td>SANTA MARTHA</td>\n",
       "      <td>0</td>\n",
       "      <td>1</td>\n",
       "      <td>1</td>\n",
       "      <td>0</td>\n",
       "      <td>0</td>\n",
       "      <td>0</td>\n",
       "      <td>No</td>\n",
       "    </tr>\n",
       "  </tbody>\n",
       "</table>\n",
       "</div>"
      ],
      "text/plain": [
       "          PatientId  AppointmentID Gender          ScheduledDay  \\\n",
       "57020  1.476612e+11        5679466      F  2016-05-10T09:57:55Z   \n",
       "67404  5.163147e+14        5571658      F  2016-04-12T09:24:13Z   \n",
       "42628  2.488843e+12        5690749      F  2016-05-12T10:35:23Z   \n",
       "11918  9.618864e+14        5511964      F  2016-03-28T08:24:33Z   \n",
       "30082  4.836462e+11        5750314      F  2016-05-31T08:44:06Z   \n",
       "\n",
       "             AppointmentDay  Age      Neighbourhood  Scholarship  \\\n",
       "57020  2016-05-17T00:00:00Z   44          CARATOÍRA            0   \n",
       "67404  2016-05-16T00:00:00Z   11        MARIA ORTIZ            0   \n",
       "42628  2016-05-16T00:00:00Z   46     JARDIM CAMBURI            0   \n",
       "11918  2016-05-06T00:00:00Z   75  JESUS DE NAZARETH            0   \n",
       "30082  2016-06-01T00:00:00Z   83       SANTA MARTHA            0   \n",
       "\n",
       "       Hipertension  Diabetes  Alcoholism  Handcap  SMS_received No-show  \n",
       "57020             0         0           0        0             0     Yes  \n",
       "67404             0         0           0        0             0     Yes  \n",
       "42628             0         0           0        0             0      No  \n",
       "11918             1         1           0        0             1     Yes  \n",
       "30082             1         1           0        0             0      No  "
      ]
     },
     "execution_count": 12,
     "metadata": {},
     "output_type": "execute_result"
    }
   ],
   "source": [
    "train.head() #visualizzo le prime 5 righe del dataset di train"
   ]
  },
  {
   "cell_type": "code",
   "execution_count": 13,
   "metadata": {},
   "outputs": [
    {
     "data": {
      "text/plain": [
       "Index(['PatientId', 'AppointmentID', 'Gender', 'ScheduledDay',\n",
       "       'AppointmentDay', 'Age', 'Neighbourhood', 'Scholarship', 'Hipertension',\n",
       "       'Diabetes', 'Alcoholism', 'Handcap', 'SMS_received', 'No-show'],\n",
       "      dtype='object')"
      ]
     },
     "execution_count": 13,
     "metadata": {},
     "output_type": "execute_result"
    }
   ],
   "source": [
    "train.columns #mostro le colonne "
   ]
  },
  {
   "cell_type": "code",
   "execution_count": 14,
   "metadata": {},
   "outputs": [
    {
     "data": {
      "text/html": [
       "<div>\n",
       "<style scoped>\n",
       "    .dataframe tbody tr th:only-of-type {\n",
       "        vertical-align: middle;\n",
       "    }\n",
       "\n",
       "    .dataframe tbody tr th {\n",
       "        vertical-align: top;\n",
       "    }\n",
       "\n",
       "    .dataframe thead th {\n",
       "        text-align: right;\n",
       "    }\n",
       "</style>\n",
       "<table border=\"1\" class=\"dataframe\">\n",
       "  <thead>\n",
       "    <tr style=\"text-align: right;\">\n",
       "      <th></th>\n",
       "      <th>PatientId</th>\n",
       "      <th>AppointmentID</th>\n",
       "      <th>Gender</th>\n",
       "      <th>ScheduledDay</th>\n",
       "      <th>AppointmentDay</th>\n",
       "      <th>Age</th>\n",
       "      <th>Neighbourhood</th>\n",
       "      <th>Scholarship</th>\n",
       "      <th>Hipertension</th>\n",
       "      <th>Diabetes</th>\n",
       "      <th>Alcoholism</th>\n",
       "      <th>Handcap</th>\n",
       "      <th>SMS_received</th>\n",
       "      <th>No-show</th>\n",
       "    </tr>\n",
       "  </thead>\n",
       "  <tbody>\n",
       "    <tr>\n",
       "      <th>43077</th>\n",
       "      <td>1.167239e+11</td>\n",
       "      <td>5778236</td>\n",
       "      <td>M</td>\n",
       "      <td>2016-06-06T15:14:21Z</td>\n",
       "      <td>2016-06-08T00:00:00Z</td>\n",
       "      <td>9</td>\n",
       "      <td>INHANGUETÁ</td>\n",
       "      <td>0</td>\n",
       "      <td>0</td>\n",
       "      <td>0</td>\n",
       "      <td>0</td>\n",
       "      <td>0</td>\n",
       "      <td>0</td>\n",
       "      <td>No</td>\n",
       "    </tr>\n",
       "    <tr>\n",
       "      <th>44486</th>\n",
       "      <td>2.375498e+13</td>\n",
       "      <td>5739813</td>\n",
       "      <td>M</td>\n",
       "      <td>2016-05-25T14:10:29Z</td>\n",
       "      <td>2016-05-30T00:00:00Z</td>\n",
       "      <td>50</td>\n",
       "      <td>ANDORINHAS</td>\n",
       "      <td>0</td>\n",
       "      <td>0</td>\n",
       "      <td>1</td>\n",
       "      <td>0</td>\n",
       "      <td>0</td>\n",
       "      <td>1</td>\n",
       "      <td>No</td>\n",
       "    </tr>\n",
       "    <tr>\n",
       "      <th>25328</th>\n",
       "      <td>9.435712e+10</td>\n",
       "      <td>5683899</td>\n",
       "      <td>F</td>\n",
       "      <td>2016-05-11T08:00:20Z</td>\n",
       "      <td>2016-05-11T00:00:00Z</td>\n",
       "      <td>69</td>\n",
       "      <td>JARDIM CAMBURI</td>\n",
       "      <td>0</td>\n",
       "      <td>0</td>\n",
       "      <td>0</td>\n",
       "      <td>0</td>\n",
       "      <td>0</td>\n",
       "      <td>0</td>\n",
       "      <td>No</td>\n",
       "    </tr>\n",
       "    <tr>\n",
       "      <th>31341</th>\n",
       "      <td>8.277442e+13</td>\n",
       "      <td>5688382</td>\n",
       "      <td>F</td>\n",
       "      <td>2016-05-12T07:19:39Z</td>\n",
       "      <td>2016-05-16T00:00:00Z</td>\n",
       "      <td>22</td>\n",
       "      <td>FORTE SÃO JOÃO</td>\n",
       "      <td>0</td>\n",
       "      <td>0</td>\n",
       "      <td>0</td>\n",
       "      <td>0</td>\n",
       "      <td>0</td>\n",
       "      <td>0</td>\n",
       "      <td>No</td>\n",
       "    </tr>\n",
       "    <tr>\n",
       "      <th>19054</th>\n",
       "      <td>1.812426e+14</td>\n",
       "      <td>5707554</td>\n",
       "      <td>F</td>\n",
       "      <td>2016-05-17T09:47:04Z</td>\n",
       "      <td>2016-05-17T00:00:00Z</td>\n",
       "      <td>1</td>\n",
       "      <td>REDENÇÃO</td>\n",
       "      <td>0</td>\n",
       "      <td>0</td>\n",
       "      <td>0</td>\n",
       "      <td>0</td>\n",
       "      <td>0</td>\n",
       "      <td>0</td>\n",
       "      <td>No</td>\n",
       "    </tr>\n",
       "  </tbody>\n",
       "</table>\n",
       "</div>"
      ],
      "text/plain": [
       "          PatientId  AppointmentID Gender          ScheduledDay  \\\n",
       "43077  1.167239e+11        5778236      M  2016-06-06T15:14:21Z   \n",
       "44486  2.375498e+13        5739813      M  2016-05-25T14:10:29Z   \n",
       "25328  9.435712e+10        5683899      F  2016-05-11T08:00:20Z   \n",
       "31341  8.277442e+13        5688382      F  2016-05-12T07:19:39Z   \n",
       "19054  1.812426e+14        5707554      F  2016-05-17T09:47:04Z   \n",
       "\n",
       "             AppointmentDay  Age   Neighbourhood  Scholarship  Hipertension  \\\n",
       "43077  2016-06-08T00:00:00Z    9      INHANGUETÁ            0             0   \n",
       "44486  2016-05-30T00:00:00Z   50      ANDORINHAS            0             0   \n",
       "25328  2016-05-11T00:00:00Z   69  JARDIM CAMBURI            0             0   \n",
       "31341  2016-05-16T00:00:00Z   22  FORTE SÃO JOÃO            0             0   \n",
       "19054  2016-05-17T00:00:00Z    1        REDENÇÃO            0             0   \n",
       "\n",
       "       Diabetes  Alcoholism  Handcap  SMS_received No-show  \n",
       "43077         0           0        0             0      No  \n",
       "44486         1           0        0             1      No  \n",
       "25328         0           0        0             0      No  \n",
       "31341         0           0        0             0      No  \n",
       "19054         0           0        0             0      No  "
      ]
     },
     "execution_count": 14,
     "metadata": {},
     "output_type": "execute_result"
    }
   ],
   "source": [
    "test.head() #visualizzo le prime 5 righe del dataset di test"
   ]
  },
  {
   "cell_type": "code",
   "execution_count": 15,
   "metadata": {},
   "outputs": [
    {
     "data": {
      "text/plain": [
       "Index(['PatientId', 'AppointmentID', 'Gender', 'ScheduledDay',\n",
       "       'AppointmentDay', 'Age', 'Neighbourhood', 'Scholarship', 'Hipertension',\n",
       "       'Diabetes', 'Alcoholism', 'Handcap', 'SMS_received', 'No-show'],\n",
       "      dtype='object')"
      ]
     },
     "execution_count": 15,
     "metadata": {},
     "output_type": "execute_result"
    }
   ],
   "source": [
    "test.columns #mostro le colonne "
   ]
  },
  {
   "cell_type": "code",
   "execution_count": null,
   "metadata": {},
   "outputs": [],
   "source": []
  }
 ],
 "metadata": {
  "kernelspec": {
   "display_name": "Python 3",
   "language": "python",
   "name": "python3"
  },
  "language_info": {
   "codemirror_mode": {
    "name": "ipython",
    "version": 3
   },
   "file_extension": ".py",
   "mimetype": "text/x-python",
   "name": "python",
   "nbconvert_exporter": "python",
   "pygments_lexer": "ipython3",
   "version": "3.7.6"
  }
 },
 "nbformat": 4,
 "nbformat_minor": 4
}
