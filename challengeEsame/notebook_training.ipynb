{
 "cells": [
  {
   "cell_type": "markdown",
   "metadata": {},
   "source": [
    "# Notebook di Training \n",
    "### Contesto: \n",
    "Una persona prende appuntamento dal medico, riceve tutte le istruzioni e non si presenta\n",
    "### Obiettivo:\n",
    "Costruire un classificatore che, dato un paziente e il suo appuntamento, prevede quando un paziente non si presenterà\n"
   ]
  },
  {
   "cell_type": "code",
   "execution_count": null,
   "metadata": {},
   "outputs": [],
   "source": [
    "import numpy as np\n",
    "import pandas as pd\n",
    "from sklearn.preprocessing import LabelEncoder #per trasformare i valori object in valori numerici \n",
    "from sklearn.tree import DecisionTreeClassifier #per utilizzare come classificatore un DecisionTreeClassifier\n",
    "from sklearn.metrics import accuracy_score #per valutare il modello "
   ]
  },
  {
   "cell_type": "markdown",
   "metadata": {},
   "source": [
    "### Dataset: \n",
    "è costituito da 14 colonne di cui la più importante è No-show, ossia se il paziente si presenterà o meno all'appuntamento.\n",
    "Le features:\n",
    "### PatientId: \n",
    "identificazione di un paziente \n",
    "### AppointmentId:\n",
    "identificazione di un appuntamento \n",
    "### Gender:\n",
    "maschio o femmina \n",
    "### ScheduledDay:\n",
    "il giorno in cui qualcuno ha registrato l'appuntamento \n",
    "### AppointmentDay:\n",
    "il giorno effettivo dell'appuntamento \n",
    "### Age:\n",
    "quanti anni ha il paziente \n",
    "### Neighbourhood:\n",
    "dove si svolge l'appuntamento\n",
    "### Scholarship:\n",
    "assicurazione familiare per la salute \n",
    "### Hipertension,Diabetes,Alcoholism, Handcap:\n",
    "Si/No \n",
    "### SMS_received: \n",
    "1 o più messaggi invaiti al cliente "
   ]
  },
  {
   "cell_type": "markdown",
   "metadata": {},
   "source": [
    "### Preparazione dei dati \n",
    "Verifico se ci sono valori nulli nelle colonne e nelle righe, creo delle features aggiuntive che aiutano nelle classificazione, in particolare \"WaitTime\" che è il tempo trascorso tra il giorno della chiamata e il giorno dell'appuntamento e \"weekday\", il giorno corrispondente della settimana in cui si svolge l'appuntamento. Elimino le colonne che non sono rilevanti, come gli identificativi del paziente e dell'appuntamnento(PatientId, AppointmentId), il giorno della chiamata(ScheduledDay) e il luogo dove si svolge l'appuntamento(Neighbourhood)"
   ]
  },
  {
   "cell_type": "code",
   "execution_count": null,
   "metadata": {},
   "outputs": [],
   "source": [
    "dataset_train = pd.read_csv('train.csv') #importo i dati dal csv che contiene i dati di train "
   ]
  },
  {
   "cell_type": "code",
   "execution_count": null,
   "metadata": {},
   "outputs": [],
   "source": [
    "dataset_test = pd.read_csv('test.csv') #importo i dati dal csv che contiene i dati di test"
   ]
  },
  {
   "cell_type": "code",
   "execution_count": null,
   "metadata": {},
   "outputs": [],
   "source": [
    "dataset_train.head() #mostro le prime 5 righe del dataset di train "
   ]
  },
  {
   "cell_type": "code",
   "execution_count": null,
   "metadata": {},
   "outputs": [],
   "source": [
    "dataset_train.columns #mostro le colonne "
   ]
  },
  {
   "cell_type": "code",
   "execution_count": null,
   "metadata": {},
   "outputs": [],
   "source": [
    "#controllo che non ci siano righe nulle \n",
    "dataset_train.isna().any() #non ci sono righe nulle"
   ]
  },
  {
   "cell_type": "code",
   "execution_count": null,
   "metadata": {},
   "outputs": [],
   "source": [
    "dataset_train = dataset_train.dropna() #elimino i valori nulli nelle colonne e nelle righe "
   ]
  },
  {
   "cell_type": "markdown",
   "metadata": {},
   "source": [
    "Decido di fare alcune modifiche alle colonne per ottenere feature più significative"
   ]
  },
  {
   "cell_type": "code",
   "execution_count": null,
   "metadata": {},
   "outputs": [],
   "source": [
    "dataset_train.ScheduledDay = dataset_train.ScheduledDay.apply(np.datetime64) #trasformo in data\n",
    "dataset_train.AppointmentDay = dataset_train.AppointmentDay.apply(np.datetime64) #trasformo in data \n",
    "dataset_train['WaitTime'] = (dataset_train.AppointmentDay - dataset_train.ScheduledDay).dt.days #creo una colonna che indica il tempo di attesa\n",
    "dataset_train['weekday'] = dataset_train.AppointmentDay.dt.weekday #creo una colonna con il giorno della settimana"
   ]
  },
  {
   "cell_type": "code",
   "execution_count": null,
   "metadata": {},
   "outputs": [],
   "source": [
    "#elimino le colonne che non mi sembrano rilevanti per l'addestramento\n",
    "del[dataset_train['PatientId']]\n",
    "del[dataset_train['AppointmentID']]\n",
    "del[dataset_train['ScheduledDay']]\n",
    "del[dataset_train['Neighbourhood']]"
   ]
  },
  {
   "cell_type": "code",
   "execution_count": null,
   "metadata": {},
   "outputs": [],
   "source": [
    "dataset_train.columns #mostro le colonne rimaste"
   ]
  },
  {
   "cell_type": "code",
   "execution_count": null,
   "metadata": {},
   "outputs": [],
   "source": [
    "dataset_train.head() "
   ]
  },
  {
   "cell_type": "code",
   "execution_count": null,
   "metadata": {},
   "outputs": [],
   "source": [
    "dataset_test.head() #mostro le prime 5 righe del dataset di test"
   ]
  },
  {
   "cell_type": "code",
   "execution_count": null,
   "metadata": {},
   "outputs": [],
   "source": [
    "dataset_test.columns #mostro le colonne "
   ]
  },
  {
   "cell_type": "code",
   "execution_count": null,
   "metadata": {},
   "outputs": [],
   "source": [
    "#controllo che non ci siano righe nulle \n",
    "dataset_test.isna().any() #non ci sono righe nulle"
   ]
  },
  {
   "cell_type": "code",
   "execution_count": null,
   "metadata": {},
   "outputs": [],
   "source": [
    "dataset_test = dataset_test.dropna() #elimino i valori nulli nelle colonne e nelle righe "
   ]
  },
  {
   "cell_type": "markdown",
   "metadata": {},
   "source": [
    "Decido di fare alcune modifiche alle colonne per ottenere feature più significative"
   ]
  },
  {
   "cell_type": "code",
   "execution_count": null,
   "metadata": {},
   "outputs": [],
   "source": [
    "dataset_test.ScheduledDay = dataset_test.ScheduledDay.apply(np.datetime64) #trasformo in data\n",
    "dataset_test.AppointmentDay = dataset_test.AppointmentDay.apply(np.datetime64) #trasformo in data \n",
    "dataset_test['WaitTime'] = (dataset_test.AppointmentDay - dataset_test.ScheduledDay).dt.days #creo una colonna che indica il tempo di attesa\n",
    "dataset_test['weekday'] = dataset_test.AppointmentDay.dt.weekday #creo una colonna con il giorno della settimana"
   ]
  },
  {
   "cell_type": "code",
   "execution_count": null,
   "metadata": {},
   "outputs": [],
   "source": [
    "#elimino le colonne che non sono significative \n",
    "del[dataset_test['PatientId']]\n",
    "del[dataset_test['AppointmentID']]\n",
    "del[dataset_test['ScheduledDay']]\n",
    "del[dataset_test['Neighbourhood']]"
   ]
  },
  {
   "cell_type": "code",
   "execution_count": null,
   "metadata": {},
   "outputs": [],
   "source": [
    "dataset_test.columns #mostro le colonne rimaste"
   ]
  },
  {
   "cell_type": "code",
   "execution_count": null,
   "metadata": {},
   "outputs": [],
   "source": [
    "#individuo quelle che sono le features categoriche, ossia che sono object\n",
    "features_categoriche_train = dataset_train.select_dtypes(include = 'object') \n",
    "features_categoriche_test = dataset_test.select_dtypes(include = 'object')\n"
   ]
  },
  {
   "cell_type": "code",
   "execution_count": null,
   "metadata": {},
   "outputs": [],
   "source": [
    "#individuo le features che sono numeri \n",
    "features_numeriche_train = dataset_train.select_dtypes(include = np.number)   \n",
    "features_numeriche_test = dataset_test.select_dtypes(include = np.number)   "
   ]
  },
  {
   "cell_type": "code",
   "execution_count": null,
   "metadata": {},
   "outputs": [],
   "source": [
    "#con il label enncoder trasformo le feature che sono object in numeri \n",
    "label_encoder = LabelEncoder()\n",
    "\n",
    "for i in features_categoriche_train:\n",
    "    features_categoriche_train[i] = label_encoder.fit_transform(features_categoriche_train[i])\n",
    "    \n",
    "features_categoriche_train"
   ]
  },
  {
   "cell_type": "code",
   "execution_count": null,
   "metadata": {},
   "outputs": [],
   "source": [
    "#con il label enncoder trasformo le feature che sono object in numeri \n",
    "label_encoder = LabelEncoder()\n",
    "\n",
    "for i in features_categoriche_test:\n",
    "    features_categoriche_test[i] = label_encoder.fit_transform(features_categoriche_test[i])\n",
    "    \n",
    "features_categoriche_test"
   ]
  },
  {
   "cell_type": "code",
   "execution_count": null,
   "metadata": {},
   "outputs": [],
   "source": [
    "#concateno di nuovo tutte le feature del dataset di train e di test\n",
    "new_train = pd.concat([features_numeriche_train, features_categoriche_train], axis = 1)\n",
    "new_test = pd.concat([features_numeriche_test, features_categoriche_test], axis = 1)"
   ]
  },
  {
   "cell_type": "markdown",
   "metadata": {},
   "source": [
    "### Definizione delle feature X e della variabile target y\n"
   ]
  },
  {
   "cell_type": "code",
   "execution_count": null,
   "metadata": {},
   "outputs": [],
   "source": [
    "#dichiaro quale feature è X e quale è y\n",
    "y_train, y_test = new_train['No-show'], new_test['No-show'] #la colonna target No-show\n",
    "X_train, X_test = new_train.drop(columns=['No-show']), new_test.drop(columns=['No-show']) #tutte le altre feature del paziente"
   ]
  },
  {
   "cell_type": "code",
   "execution_count": null,
   "metadata": {},
   "outputs": [],
   "source": [
    "X_train"
   ]
  },
  {
   "cell_type": "code",
   "execution_count": null,
   "metadata": {},
   "outputs": [],
   "source": [
    "y_train"
   ]
  },
  {
   "cell_type": "markdown",
   "metadata": {},
   "source": [
    "### Addestramento del modello"
   ]
  },
  {
   "cell_type": "code",
   "execution_count": null,
   "metadata": {},
   "outputs": [],
   "source": [
    "#decido di utlizzare un DecisionTreeClassifier con i parametri entropy, random_state=1 \n",
    "tree = DecisionTreeClassifier(criterion='entropy',random_state=1)\n",
    "tree.fit(X_train,y_train)"
   ]
  },
  {
   "cell_type": "markdown",
   "metadata": {},
   "source": [
    "Decido di usare come criterio 'entropy', ossia quello relativo all'information gain, il guadagno di informazione."
   ]
  },
  {
   "cell_type": "code",
   "execution_count": null,
   "metadata": {},
   "outputs": [],
   "source": [
    "#mostro la predizione sui dati di train \n",
    "predictions_train = tree.predict(X_train)"
   ]
  },
  {
   "cell_type": "code",
   "execution_count": null,
   "metadata": {},
   "outputs": [],
   "source": [
    "#mostro l'accuratezza sui dati di train \n",
    "print(\"Accuracy : \"+str(accuracy_score(y_train,predictions_train)))"
   ]
  },
  {
   "cell_type": "code",
   "execution_count": null,
   "metadata": {},
   "outputs": [],
   "source": [
    "#effettuo la predizione sui dati di test \n",
    "predictions = tree.predict(X_test)"
   ]
  },
  {
   "cell_type": "markdown",
   "metadata": {},
   "source": [
    "### Valutazione del modello"
   ]
  },
  {
   "cell_type": "code",
   "execution_count": null,
   "metadata": {},
   "outputs": [],
   "source": [
    "#mostro l'accuratezza del modello sui dati di test\n",
    "print(\"Accuracy : \"+str(accuracy_score(y_test,predictions)))"
   ]
  },
  {
   "cell_type": "code",
   "execution_count": null,
   "metadata": {},
   "outputs": [],
   "source": [
    "from sklearn.metrics import confusion_matrix\n",
    "print(confusion_matrix(y_test, predictions))"
   ]
  },
  {
   "cell_type": "code",
   "execution_count": null,
   "metadata": {},
   "outputs": [],
   "source": [
    "from sklearn.metrics import classification_report\n",
    "print(classification_report(y_test,predictions))"
   ]
  },
  {
   "cell_type": "markdown",
   "metadata": {},
   "source": [
    "Ho preferito usare il decision tree classifier con questi parametri per non sbilanciare troppo la classe yes rispetto alla classe no,anche ottenendo un'accuracy inferiore"
   ]
  }
 ],
 "metadata": {
  "kernelspec": {
   "display_name": "Python 3",
   "language": "python",
   "name": "python3"
  },
  "language_info": {
   "codemirror_mode": {
    "name": "ipython",
    "version": 3
   },
   "file_extension": ".py",
   "mimetype": "text/x-python",
   "name": "python",
   "nbconvert_exporter": "python",
   "pygments_lexer": "ipython3",
   "version": "3.7.6"
  }
 },
 "nbformat": 4,
 "nbformat_minor": 4
}
